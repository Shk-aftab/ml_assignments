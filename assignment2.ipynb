{
 "cells": [
  {
   "cell_type": "markdown",
   "metadata": {},
   "source": [
    "\n",
    "Task 1:\n",
    "\n",
    "1.1 Write a Python Program to implement your own myreduce() function which works exactly like Python's built-in function reduce()"
   ]
  },
  {
   "cell_type": "code",
   "execution_count": 117,
   "metadata": {},
   "outputs": [
    {
     "name": "stdout",
     "output_type": "stream",
     "text": [
      "Sum of list using custom reduce function 21\n"
     ]
    }
   ],
   "source": [
    "my_list=[2,4,7,8]\n",
    "\n",
    "def myreduce(sum,my_list):\n",
    "    result=my_list[0]\n",
    "    \n",
    "    for item in my_list[1:]:\n",
    "        result=sum(result,item)\n",
    "    return result\n",
    "\n",
    "def sum(x,y):\n",
    "    return x + y\n",
    "\n",
    "print (\"Sum of list using custom reduce function \" + str(myreduce(sum, my_list)) )"
   ]
  },
  {
   "cell_type": "markdown",
   "metadata": {},
   "source": [
    "1.2 Write a Python program to implement your own myfilter() function which works exactly like Python's built-in function filter()"
   ]
  },
  {
   "cell_type": "code",
   "execution_count": 118,
   "metadata": {},
   "outputs": [
    {
     "name": "stdout",
     "output_type": "stream",
     "text": [
      "Filter only positive Integers from list using custom filter function[2, 4, 6, 8]\n"
     ]
    }
   ],
   "source": [
    "my_list1=[2,4,-1,6,8]\n",
    "\n",
    "def myfilter(ispositive,my_list1):\n",
    "    result=[]\n",
    "    \n",
    "    for item in my_list1:\n",
    "        if ispositive(item):\n",
    "            result.append(item)\n",
    "    return result\n",
    "\n",
    "def ispositive(x):\n",
    "     if (x <= 0): \n",
    "        return False \n",
    "     else: \n",
    "        return True\n",
    "    \n",
    "print (\"Filter only positive Integers from list using custom filter function\"  + str(myfilter(ispositive, my_list1)))"
   ]
  },
  {
   "cell_type": "markdown",
   "metadata": {},
   "source": [
    "2. Implement List comprehensions to produce the following lists. Write List comprehensions to produce the following Lists"
   ]
  },
  {
   "cell_type": "code",
   "execution_count": 121,
   "metadata": {},
   "outputs": [
    {
     "name": "stdout",
     "output_type": "stream",
     "text": [
      "['A', 'C', 'A', 'D', 'G', 'I', 'L', 'D']\n",
      "\n",
      "['x', 'xx', 'xxx', 'xxxx', 'y', 'yy', 'yyy', 'yyyy', 'z', 'zz', 'zzz', 'zzzz']\n",
      "\n",
      "['x', 'y', 'z', 'xx', 'yy', 'zz', 'xxx', 'yyy', 'zzz', 'xxxx', 'yyyy', 'zzzz']\n",
      "\n",
      "[[2], [3], [4], [3], [4], [5], [4], [5], [6]]\n",
      "\n",
      "[[2, 3, 4, 5], [3, 4, 5, 6], [4, 5, 6, 7], [5, 6, 7, 8]]\n",
      "\n",
      "[(1, 1), (2, 1), (3, 1), (1, 2), (2, 2), (3, 2), (1, 3), (2, 3), (3, 3)]\n"
     ]
    }
   ],
   "source": [
    "word = \"ACADGILD\"\n",
    "alphabet_list = [ alphabet for alphabet in word ]\n",
    "print (alphabet_list)\n",
    "print()\n",
    "\n",
    "input_list = ['x','y','z']\n",
    "result = [ item*num for item in input_list for num in range(1,5)  ]\n",
    "print(result)\n",
    "print()\n",
    "\n",
    "input_list = ['x','y','z']\n",
    "result = [ item*num for num in range(1,5) for item in input_list  ]\n",
    "print(result)\n",
    "print()\n",
    "\n",
    "input_list = [2,3,4]\n",
    "result = [ [item+num] for item in input_list for num in range(0,3)]\n",
    "print(result)\n",
    "print()\n",
    "\n",
    "input_list = [2,3,4,5]\n",
    "result = [ [item+num for item in input_list] for num in range(0,4)  ]\n",
    "print(result)\n",
    "print()\n",
    "\n",
    "input_list=[1,2,3]\n",
    "result = [ (b,a) for a in input_list for b in input_list]\n",
    "print(result)"
   ]
  },
  {
   "cell_type": "markdown",
   "metadata": {},
   "source": [
    "3. Implement a function longestWord() that takes a list of words and returns the longest one"
   ]
  },
  {
   "cell_type": "code",
   "execution_count": 123,
   "metadata": {},
   "outputs": [
    {
     "name": "stdout",
     "output_type": "stream",
     "text": [
      "Enter how many word you want in the list: 5\n",
      "Enter the word 1 :ac\n",
      "Enter the word 2 :csjhdv\n",
      "Enter the word 3 :cjshdvfcahcv\n",
      "Enter the word 4 :asjhc\n",
      "Enter the word 5 :bckja\n",
      "The longest word in the list is  cjshdvfcahcv\n"
     ]
    }
   ],
   "source": [
    "n = int(input(\"Enter how many word you want in the list: \"))\n",
    "l =[]\n",
    "for i in range(n):\n",
    "    a = input(\"Enter the word %d :\"%(i+1))\n",
    "    l.append(a)\n",
    "found = False\n",
    "i = 0\n",
    "current_longest = l[0]\n",
    "while not found:\n",
    "    if len(current_longest) <= len(l[i]):\n",
    "        current_longest = l[i]\n",
    "    i += 1\n",
    "    if i >= len(l):\n",
    "        break\n",
    "print(\"The longest word in the list is \",current_longest)"
   ]
  },
  {
   "cell_type": "markdown",
   "metadata": {},
   "source": [
    "Task2\n",
    "\n",
    "1.1 Write a Python Program(with class concepts) to find the area of the triangle using the below formula. area = (s(s-a)(s-b)*(s-c)) ** 0.5 Function to take the length of the sides of triangle from user should be defined in the parent class and function to calculate the area should be defined in subclass"
   ]
  },
  {
   "cell_type": "code",
   "execution_count": 135,
   "metadata": {},
   "outputs": [
    {
     "name": "stdout",
     "output_type": "stream",
     "text": [
      "14.696938456699069\n"
     ]
    }
   ],
   "source": [
    "class Triangle:\n",
    " \n",
    "    def __init__(self,a,b,c):\n",
    "        self.a = float(a)\n",
    "        self.b = float(b)\n",
    "        self.c = float(c)\n",
    " \n",
    "    def area(self):\n",
    "        s=(self.a + self.b + self.c)/2\n",
    "        return((s*(s-self.a)*(s-self.b)*(s-self.c))**0.5)\n",
    "    \n",
    "ar=Triangle(5,6,7)\n",
    "print(ar.area())\n",
    " "
   ]
  },
  {
   "cell_type": "markdown",
   "metadata": {},
   "source": [
    "1.2 Write a function filter_long_words() that takes a list of words and an integer n and returns the list of words that are longer than n."
   ]
  },
  {
   "cell_type": "code",
   "execution_count": 131,
   "metadata": {},
   "outputs": [
    {
     "name": "stdout",
     "output_type": "stream",
     "text": [
      "Enter how many word you want in the list: 4\n",
      "Enter the word 1 :sdljvn\n",
      "Enter the word 2 :sdkjnvsldbv\n",
      "Enter the word 3 :kjvbss\n",
      "Enter the word 4 :c\n",
      "Enter the length: 5\n",
      "The word which are greater then  5  in length are:  ['sdljvn', 'sdkjnvsldbv', 'kjvbss']\n"
     ]
    }
   ],
   "source": [
    "n = int(input(\"Enter how many word you want in the list: \"))\n",
    "l =[]\n",
    "for i in range(n):\n",
    "    a = input(\"Enter the word %d :\"%(i+1))\n",
    "    l.append(a)\n",
    "n1 = int(input(\"Enter the length: \"))\n",
    "\n",
    "def filter_long_words(x, n):\n",
    "    a = []\n",
    "    for i in range(len(x)):\n",
    "        if len(x[i]) > n:\n",
    "            a.append(x[i])\n",
    "    return a\n",
    "print(\"The word which are greater then \",n1,\" in length are: \",filter_long_words(l, n1))"
   ]
  },
  {
   "cell_type": "markdown",
   "metadata": {},
   "source": [
    "2.1 Write a Python program using function concept that maps list of words into a list of integers representing the lengths of the corresponding words. Hint: If a list [ ab,cde,erty] is passed on to the python function output should come as [2,3,4] Here 2,3 and 4 are the lengths of the words in the list."
   ]
  },
  {
   "cell_type": "code",
   "execution_count": 132,
   "metadata": {},
   "outputs": [
    {
     "name": "stdout",
     "output_type": "stream",
     "text": [
      "How many element you want in the list: 4\n",
      "Enter the element : jfdnb\n",
      "Enter the element : sjfb\n",
      "Enter the element : vsjdbv\n",
      "Enter the element : sjvd\n",
      "['jfdnb', 'sjfb', 'vsjdbv', 'sjvd']\n",
      "[5, 4, 6, 4]\n"
     ]
    }
   ],
   "source": [
    "n = int(input(\"How many element you want in the list: \"))\n",
    "l = []\n",
    "for i in range(n):\n",
    "    a = input(\"Enter the element : \")\n",
    "    l.append(a)\n",
    "print(l)\n",
    "for i in range(n):\n",
    "    l[i] = len(l[i])\n",
    "print(l)"
   ]
  },
  {
   "cell_type": "markdown",
   "metadata": {},
   "source": [
    "2.2 Write a Python function which takes a character (i.e. a string of length 1) and returns True if it is a vowel, False otherwise."
   ]
  },
  {
   "cell_type": "code",
   "execution_count": 133,
   "metadata": {},
   "outputs": [
    {
     "name": "stdout",
     "output_type": "stream",
     "text": [
      "Enter the a character: v\n",
      "False\n",
      "Enter the a character: u\n",
      "True\n"
     ]
    }
   ],
   "source": [
    "def vowels(a):\n",
    "    vow = ['a', 'e', 'i', 'o', 'u']\n",
    "    if a in vow:\n",
    "        return True\n",
    "    else:\n",
    "        return False\n",
    "a1 = input(\"Enter the a character: \")\n",
    "print(vowels(a1))\n",
    "a2 = input(\"Enter the a character: \")\n",
    "print(vowels(a2))"
   ]
  },
  {
   "cell_type": "code",
   "execution_count": null,
   "metadata": {},
   "outputs": [],
   "source": []
  },
  {
   "cell_type": "code",
   "execution_count": null,
   "metadata": {},
   "outputs": [],
   "source": []
  }
 ],
 "metadata": {
  "kernelspec": {
   "display_name": "Python 3",
   "language": "python",
   "name": "python3"
  },
  "language_info": {
   "codemirror_mode": {
    "name": "ipython",
    "version": 3
   },
   "file_extension": ".py",
   "mimetype": "text/x-python",
   "name": "python",
   "nbconvert_exporter": "python",
   "pygments_lexer": "ipython3",
   "version": "3.7.4"
  }
 },
 "nbformat": 4,
 "nbformat_minor": 2
}
